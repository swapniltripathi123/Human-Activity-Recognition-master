{
 "cells": [
  {
   "cell_type": "code",
   "execution_count": 1,
   "metadata": {
    "collapsed": true
   },
   "outputs": [],
   "source": [
    "# Importing Libraries"
   ]
  },
  {
   "cell_type": "code",
   "execution_count": 1,
   "metadata": {},
   "outputs": [],
   "source": [
    "import pandas as pd\n",
    "import numpy as np"
   ]
  },
  {
   "cell_type": "code",
   "execution_count": 2,
   "metadata": {},
   "outputs": [],
   "source": [
    "# Activities are the class labels\n",
    "# It is a 6 class classification\n",
    "ACTIVITIES = {\n",
    "    0: 'WALKING',\n",
    "    1: 'WALKING_UPSTAIRS',\n",
    "    2: 'WALKING_DOWNSTAIRS',\n",
    "    3: 'SITTING',\n",
    "    4: 'STANDING',\n",
    "    5: 'LAYING',\n",
    "}\n",
    "\n",
    "# Utility function to print the confusion matrix\n",
    "def confusion_matrix(Y_true, Y_pred):\n",
    "    Y_true = pd.Series([ACTIVITIES[y] for y in np.argmax(Y_true, axis=1)])\n",
    "    Y_pred = pd.Series([ACTIVITIES[y] for y in np.argmax(Y_pred, axis=1)])\n",
    "\n",
    "    return pd.crosstab(Y_true, Y_pred, rownames=['True'], colnames=['Pred'])"
   ]
  },
  {
   "cell_type": "markdown",
   "metadata": {},
   "source": [
    "### Data"
   ]
  },
  {
   "cell_type": "code",
   "execution_count": 3,
   "metadata": {},
   "outputs": [],
   "source": [
    "# Data directory\n",
    "DATADIR = 'UCI_HAR_Dataset'"
   ]
  },
  {
   "cell_type": "code",
   "execution_count": 4,
   "metadata": {},
   "outputs": [],
   "source": [
    "# Raw data signals\n",
    "# Signals are from Accelerometer and Gyroscope\n",
    "# The signals are in x,y,z directions\n",
    "# Sensor signals are filtered to have only body acceleration\n",
    "# excluding the acceleration due to gravity\n",
    "# Triaxial acceleration from the accelerometer is total acceleration\n",
    "SIGNALS = [\n",
    "    \"body_acc_x\",\n",
    "    \"body_acc_y\",\n",
    "    \"body_acc_z\",\n",
    "    \"body_gyro_x\",\n",
    "    \"body_gyro_y\",\n",
    "    \"body_gyro_z\",\n",
    "    \"total_acc_x\",\n",
    "    \"total_acc_y\",\n",
    "    \"total_acc_z\"\n",
    "]"
   ]
  },
  {
   "cell_type": "code",
   "execution_count": 5,
   "metadata": {},
   "outputs": [],
   "source": [
    "# Utility function to read the data from csv file\n",
    "def _read_csv(filename):\n",
    "    return pd.read_csv(filename, delim_whitespace=True, header=None)\n",
    "\n",
    "# Utility function to load the load\n",
    "def load_signals(subset):\n",
    "    signals_data = []\n",
    "\n",
    "    for signal in SIGNALS:\n",
    "        filename = f'UCI_HAR_Dataset/{subset}/Inertial Signals/{signal}_{subset}.txt'\n",
    "        signals_data.append(\n",
    "            _read_csv(filename).as_matrix()\n",
    "        ) \n",
    "\n",
    "    # Transpose is used to change the dimensionality of the output,\n",
    "    # aggregating the signals by combination of sample/timestep.\n",
    "    # Resultant shape is (7352 train/2947 test samples, 128 timesteps, 9 signals)\n",
    "    return np.transpose(signals_data, (1, 2, 0))"
   ]
  },
  {
   "cell_type": "code",
   "execution_count": 6,
   "metadata": {},
   "outputs": [],
   "source": [
    "\n",
    "def load_y(subset):\n",
    "    \"\"\"\n",
    "    The objective that we are trying to predict is a integer, from 1 to 6,\n",
    "    that represents a human activity. We return a binary representation of \n",
    "    every sample objective as a 6 bits vector using One Hot Encoding\n",
    "    (https://pandas.pydata.org/pandas-docs/stable/generated/pandas.get_dummies.html)\n",
    "    \"\"\"\n",
    "    filename = f'UCI_HAR_Dataset/{subset}/y_{subset}.txt'\n",
    "    y = _read_csv(filename)[0]\n",
    "\n",
    "    return pd.get_dummies(y).as_matrix()"
   ]
  },
  {
   "cell_type": "code",
   "execution_count": 7,
   "metadata": {},
   "outputs": [],
   "source": [
    "def load_data():\n",
    "    \"\"\"\n",
    "    Obtain the dataset from multiple files.\n",
    "    Returns: X_train, X_test, y_train, y_test\n",
    "    \"\"\"\n",
    "    X_train, X_test = load_signals('train'), load_signals('test')\n",
    "    y_train, y_test = load_y('train'), load_y('test')\n",
    "\n",
    "    return X_train, X_test, y_train, y_test"
   ]
  },
  {
   "cell_type": "code",
   "execution_count": null,
   "metadata": {},
   "outputs": [],
   "source": [
    "# Importing tensorflow\n",
    "np.random.seed(42)\n",
    "import tensorflow as tf\n",
    "tf.set_random_seed(42)"
   ]
  },
  {
   "cell_type": "code",
   "execution_count": 9,
   "metadata": {},
   "outputs": [],
   "source": [
    "# Configuring a session\n",
    "session_conf = tf.ConfigProto(\n",
    "    intra_op_parallelism_threads=1,\n",
    "    inter_op_parallelism_threads=1\n",
    ")"
   ]
  },
  {
   "cell_type": "code",
   "execution_count": 10,
   "metadata": {},
   "outputs": [
    {
     "name": "stderr",
     "output_type": "stream",
     "text": [
      "Using TensorFlow backend.\n"
     ]
    }
   ],
   "source": [
    "# Import Keras\n",
    "from keras import backend as K\n",
    "sess = tf.Session(graph=tf.get_default_graph(), config=session_conf)\n",
    "K.set_session(sess)"
   ]
  },
  {
   "cell_type": "code",
   "execution_count": 100,
   "metadata": {},
   "outputs": [],
   "source": [
    "# Importing libraries\n",
    "from keras.models import Sequential\n",
    "from keras.layers import LSTM\n",
    "from keras.layers.core import Dense, Dropout\n",
    "from keras.layers.normalization import BatchNormalization"
   ]
  },
  {
   "cell_type": "code",
   "execution_count": 23,
   "metadata": {},
   "outputs": [],
   "source": [
    "# Utility function to count the number of classes\n",
    "def _count_classes(y):\n",
    "    return len(set([tuple(category) for category in y]))"
   ]
  },
  {
   "cell_type": "code",
   "execution_count": null,
   "metadata": {},
   "outputs": [],
   "source": [
    "# Loading the train and test data\n",
    "X_train, X_test, Y_train, Y_test = load_data()"
   ]
  },
  {
   "cell_type": "code",
   "execution_count": 15,
   "metadata": {
    "collapsed": true
   },
   "outputs": [
    {
     "name": "stdout",
     "output_type": "stream",
     "text": [
      "128\n",
      "9\n",
      "7352\n"
     ]
    }
   ],
   "source": [
    "timesteps = len(X_train[0])\n",
    "input_dim = len(X_train[0][0])\n",
    "n_classes = _count_classes(Y_train)\n",
    "\n",
    "print(timesteps)\n",
    "print(input_dim)\n",
    "print(len(X_train))"
   ]
  },
  {
   "cell_type": "markdown",
   "metadata": {},
   "source": [
    "### MODEL 1"
   ]
  },
  {
   "cell_type": "code",
   "execution_count": 201,
   "metadata": {},
   "outputs": [],
   "source": [
    "# Initializing parameters\n",
    "#epochs = 30\n",
    "#batch_size = 16\n",
    "#n_hidden = 32\n",
    "#pv = 0.5\n",
    "\n",
    "epochs = 30\n",
    "batch_size = 32\n",
    "n_hidden = 128\n",
    "pv = 0.25"
   ]
  },
  {
   "cell_type": "markdown",
   "metadata": {},
   "source": [
    "- Defining the Architecture of LSTM"
   ]
  },
  {
   "cell_type": "code",
   "execution_count": 202,
   "metadata": {},
   "outputs": [
    {
     "name": "stdout",
     "output_type": "stream",
     "text": [
      "_________________________________________________________________\n",
      "Layer (type)                 Output Shape              Param #   \n",
      "=================================================================\n",
      "lstm_30 (LSTM)               (None, 128)               70656     \n",
      "_________________________________________________________________\n",
      "batch_normalization_10 (Batc (None, 128)               512       \n",
      "_________________________________________________________________\n",
      "dropout_29 (Dropout)         (None, 128)               0         \n",
      "_________________________________________________________________\n",
      "dense_25 (Dense)             (None, 6)                 774       \n",
      "=================================================================\n",
      "Total params: 71,942\n",
      "Trainable params: 71,686\n",
      "Non-trainable params: 256\n",
      "_________________________________________________________________\n"
     ]
    }
   ],
   "source": [
    "# Initiliazing the sequential model\n",
    "model = Sequential()\n",
    "# Configuring the parameters\n",
    "model.add(LSTM(n_hidden, input_shape=(timesteps, input_dim)))\n",
    "model.add(BatchNormalization())\n",
    "# Adding a dropout layer\n",
    "model.add(Dropout(pv))\n",
    "# Adding a dense output layer with sigmoid activation\n",
    "model.add(Dense(n_classes, activation='sigmoid'))\n",
    "model.summary()"
   ]
  },
  {
   "cell_type": "code",
   "execution_count": 203,
   "metadata": {},
   "outputs": [],
   "source": [
    "# Compiling the model\n",
    "model.compile(loss='categorical_crossentropy',\n",
    "              optimizer='rmsprop',\n",
    "              metrics=['accuracy'])"
   ]
  },
  {
   "cell_type": "code",
   "execution_count": 233,
   "metadata": {},
   "outputs": [
    {
     "name": "stdout",
     "output_type": "stream",
     "text": [
      "Train on 7352 samples, validate on 2947 samples\n",
      "Epoch 1/30\n",
      "7352/7352 [==============================] - 56s 8ms/step - loss: 1.0168 - acc: 0.5739 - val_loss: 0.9208 - val_acc: 0.5952\n",
      "Epoch 2/30\n",
      "7352/7352 [==============================] - 48s 7ms/step - loss: 0.7120 - acc: 0.6473 - val_loss: 1.1691 - val_acc: 0.5341\n",
      "Epoch 3/30\n",
      "7352/7352 [==============================] - 48s 7ms/step - loss: 0.6310 - acc: 0.6843 - val_loss: 0.7068 - val_acc: 0.6563\n",
      "Epoch 4/30\n",
      "7352/7352 [==============================] - 48s 7ms/step - loss: 0.5917 - acc: 0.7053 - val_loss: 0.5508 - val_acc: 0.7394\n",
      "Epoch 5/30\n",
      "7352/7352 [==============================] - 48s 7ms/step - loss: 0.4028 - acc: 0.8551 - val_loss: 0.9119 - val_acc: 0.8035\n",
      "Epoch 6/30\n",
      "7352/7352 [==============================] - 48s 7ms/step - loss: 0.2704 - acc: 0.9064 - val_loss: 0.5868 - val_acc: 0.8015\n",
      "Epoch 7/30\n",
      "7352/7352 [==============================] - 48s 7ms/step - loss: 0.2240 - acc: 0.9204 - val_loss: 0.3051 - val_acc: 0.8884\n",
      "Epoch 8/30\n",
      "7352/7352 [==============================] - 48s 7ms/step - loss: 0.1890 - acc: 0.9294 - val_loss: 0.3168 - val_acc: 0.9050\n",
      "Epoch 9/30\n",
      "7352/7352 [==============================] - 48s 7ms/step - loss: 0.1595 - acc: 0.9372 - val_loss: 0.2604 - val_acc: 0.9040\n",
      "Epoch 10/30\n",
      "7352/7352 [==============================] - 48s 7ms/step - loss: 0.1616 - acc: 0.9393 - val_loss: 0.3101 - val_acc: 0.9104\n",
      "Epoch 11/30\n",
      "7352/7352 [==============================] - 50s 7ms/step - loss: 0.1547 - acc: 0.9391 - val_loss: 0.2876 - val_acc: 0.9104\n",
      "Epoch 12/30\n",
      "7352/7352 [==============================] - 50s 7ms/step - loss: 0.1621 - acc: 0.9423 - val_loss: 0.2347 - val_acc: 0.9172\n",
      "Epoch 13/30\n",
      "7352/7352 [==============================] - 51s 7ms/step - loss: 0.1380 - acc: 0.9449 - val_loss: 0.4214 - val_acc: 0.8867\n",
      "Epoch 14/30\n",
      "7352/7352 [==============================] - 51s 7ms/step - loss: 0.1430 - acc: 0.9441 - val_loss: 0.3013 - val_acc: 0.9145\n",
      "Epoch 15/30\n",
      "7352/7352 [==============================] - 50s 7ms/step - loss: 0.1385 - acc: 0.9465 - val_loss: 0.2922 - val_acc: 0.9175\n",
      "Epoch 16/30\n",
      "7352/7352 [==============================] - 50s 7ms/step - loss: 0.1375 - acc: 0.9421 - val_loss: 0.3483 - val_acc: 0.8867\n",
      "Epoch 17/30\n",
      "7352/7352 [==============================] - 51s 7ms/step - loss: 0.1343 - acc: 0.9438 - val_loss: 0.2395 - val_acc: 0.9097\n",
      "Epoch 18/30\n",
      "7352/7352 [==============================] - 50s 7ms/step - loss: 0.1302 - acc: 0.9482 - val_loss: 0.2825 - val_acc: 0.9308\n",
      "Epoch 19/30\n",
      "7352/7352 [==============================] - 50s 7ms/step - loss: 0.1233 - acc: 0.9495 - val_loss: 0.3021 - val_acc: 0.9026\n",
      "Epoch 20/30\n",
      "7352/7352 [==============================] - 50s 7ms/step - loss: 0.1296 - acc: 0.9478 - val_loss: 0.3899 - val_acc: 0.9097\n",
      "Epoch 21/30\n",
      "7352/7352 [==============================] - 50s 7ms/step - loss: 0.1338 - acc: 0.9487 - val_loss: 0.3447 - val_acc: 0.9206\n",
      "Epoch 22/30\n",
      "7352/7352 [==============================] - 49s 7ms/step - loss: 0.1200 - acc: 0.9498 - val_loss: 0.3474 - val_acc: 0.9270\n",
      "Epoch 23/30\n",
      "7352/7352 [==============================] - 49s 7ms/step - loss: 0.1251 - acc: 0.9487 - val_loss: 0.3146 - val_acc: 0.9230\n",
      "Epoch 24/30\n",
      "7352/7352 [==============================] - 48s 7ms/step - loss: 0.1231 - acc: 0.9484 - val_loss: 0.4936 - val_acc: 0.8948\n",
      "Epoch 25/30\n",
      "7352/7352 [==============================] - 51s 7ms/step - loss: 0.1163 - acc: 0.9540 - val_loss: 0.2596 - val_acc: 0.9287\n",
      "Epoch 26/30\n",
      "7352/7352 [==============================] - 48s 7ms/step - loss: 0.1189 - acc: 0.9532 - val_loss: 0.2903 - val_acc: 0.9243\n",
      "Epoch 27/30\n",
      "7352/7352 [==============================] - 48s 7ms/step - loss: 0.1164 - acc: 0.9528 - val_loss: 0.3314 - val_acc: 0.9162\n",
      "Epoch 28/30\n",
      "7352/7352 [==============================] - 50s 7ms/step - loss: 0.1214 - acc: 0.9528 - val_loss: 0.2645 - val_acc: 0.9328\n",
      "Epoch 29/30\n",
      "7352/7352 [==============================] - 51s 7ms/step - loss: 0.1201 - acc: 0.9597 - val_loss: 0.3513 - val_acc: 0.9352\n",
      "Epoch 30/30\n",
      "7352/7352 [==============================] - 50s 7ms/step - loss: 0.1200 - acc: 0.9533 - val_loss: 0.2275 - val_acc: 0.9375\n",
      "<keras.callbacks.History at 0x2282ffd9828>\n"
     ]
    }
   ],
   "source": [
    "# Training the model\n",
    "model.fit(X_train,\n",
    "          Y_train,\n",
    "          batch_size=batch_size,\n",
    "          validation_data=(X_test, Y_test),\n",
    "          epochs=epochs)"
   ]
  },
  {
   "cell_type": "code",
   "execution_count": 205,
   "metadata": {},
   "outputs": [
    {
     "name": "stdout",
     "output_type": "stream",
     "text": [
      "Pred                LAYING  SITTING  STANDING  WALKING  WALKING_DOWNSTAIRS  \\\n",
      "True                                                                         \n",
      "LAYING                 537        0         0        0                   0   \n",
      "SITTING                  5      390        93        0                   0   \n",
      "STANDING                 0       96       436        0                   0   \n",
      "WALKING                  0        1         0      473                  10   \n",
      "WALKING_DOWNSTAIRS       0        0         0        0                 420   \n",
      "WALKING_UPSTAIRS         0        0         0        0                   1   \n",
      "\n",
      "Pred                WALKING_UPSTAIRS  \n",
      "True                                  \n",
      "LAYING                             0  \n",
      "SITTING                            3  \n",
      "STANDING                           0  \n",
      "WALKING                           12  \n",
      "WALKING_DOWNSTAIRS                 0  \n",
      "WALKING_UPSTAIRS                 470  \n"
     ]
    }
   ],
   "source": [
    "# Confusion Matrix\n",
    "print(confusion_matrix(Y_test, model.predict(X_test)))"
   ]
  },
  {
   "cell_type": "code",
   "execution_count": 206,
   "metadata": {},
   "outputs": [
    {
     "name": "stdout",
     "output_type": "stream",
     "text": [
      "2947/2947 [==============================] - 5s 2ms/step\n"
     ]
    }
   ],
   "source": [
    "score = model.evaluate(X_test, Y_test)"
   ]
  },
  {
   "cell_type": "code",
   "execution_count": 235,
   "metadata": {},
   "outputs": [
    {
     "data": {
      "text/plain": [
       "[0.2275053558829899, 0.9375084832032576]"
      ]
     },
     "execution_count": 235,
     "metadata": {},
     "output_type": "execute_result"
    }
   ],
   "source": [
    "score"
   ]
  },
  {
   "cell_type": "markdown",
   "metadata": {},
   "source": [
    "- With a simple semi tuned LSTM architecture we got 93.75% accuracy and a loss of 0.22"
   ]
  },
  {
   "cell_type": "markdown",
   "metadata": {},
   "source": [
    "### LSTM Model2\n",
    "<br>\n",
    "stacking 2 LSTM "
   ]
  },
  {
   "cell_type": "code",
   "execution_count": 194,
   "metadata": {},
   "outputs": [],
   "source": [
    "\n",
    "\n",
    "epochs1 = 30\n",
    "batch_size1= 32\n",
    "n_hidden1 = 128\n",
    "n_hidden2 =64\n",
    "pv1 = 0.2\n",
    "pv2 = 0.5"
   ]
  },
  {
   "cell_type": "markdown",
   "metadata": {},
   "source": [
    "- Defining the Architecture of LSTM"
   ]
  },
  {
   "cell_type": "code",
   "execution_count": 195,
   "metadata": {},
   "outputs": [
    {
     "name": "stdout",
     "output_type": "stream",
     "text": [
      "_________________________________________________________________\n",
      "Layer (type)                 Output Shape              Param #   \n",
      "=================================================================\n",
      "lstm_28 (LSTM)               (None, 128, 128)          70656     \n",
      "_________________________________________________________________\n",
      "dropout_27 (Dropout)         (None, 128, 128)          0         \n",
      "_________________________________________________________________\n",
      "lstm_29 (LSTM)               (None, 64)                49408     \n",
      "_________________________________________________________________\n",
      "dropout_28 (Dropout)         (None, 64)                0         \n",
      "_________________________________________________________________\n",
      "dense_24 (Dense)             (None, 6)                 390       \n",
      "=================================================================\n",
      "Total params: 120,454\n",
      "Trainable params: 120,454\n",
      "Non-trainable params: 0\n",
      "_________________________________________________________________\n"
     ]
    }
   ],
   "source": [
    "# Initiliazing the sequential model\n",
    "model1 = Sequential()\n",
    "# Configuring the parameters\n",
    "model1.add(LSTM(n_hidden1, return_sequences=True, input_shape=(timesteps, input_dim)))\n",
    "# Adding a dropout layer\n",
    "model1.add(Dropout(pv1))\n",
    "\n",
    "model1.add(LSTM(n_hidden2))\n",
    "# Adding a dropout layer\n",
    "model1.add(Dropout(pv2))\n",
    "# Adding a dense output layer with sigmoid activation\n",
    "model1.add(Dense(n_classes, activation='sigmoid'))\n",
    "model1.summary()"
   ]
  },
  {
   "cell_type": "code",
   "execution_count": 196,
   "metadata": {},
   "outputs": [],
   "source": [
    "# Compiling the model\n",
    "model1.compile(loss='categorical_crossentropy',\n",
    "              optimizer='rmsprop',\n",
    "              metrics=['accuracy'])"
   ]
  },
  {
   "cell_type": "code",
   "execution_count": 236,
   "metadata": {},
   "outputs": [
    {
     "name": "stdout",
     "output_type": "stream",
     "text": [
      "Train on 7352 samples, validate on 2947 samples\n",
      "Epoch 1/30\n",
      "7352/7352 [==============================] - 177s 24ms/step - loss: 1.1773 - acc: 0.4807 - val_loss: 1.1739 - val_acc: 0.4605\n",
      "Epoch 2/30\n",
      "7352/7352 [==============================] - 172s 23ms/step - loss: 0.7775 - acc: 0.6351 - val_loss: 0.8068 - val_acc: 0.6658\n",
      "Epoch 3/30\n",
      "7352/7352 [==============================] - 172s 23ms/step - loss: 0.7053 - acc: 0.6725 - val_loss: 0.7839 - val_acc: 0.6471\n",
      "Epoch 4/30\n",
      "7352/7352 [==============================] - 172s 23ms/step - loss: 0.6439 - acc: 0.7020 - val_loss: 0.6485 - val_acc: 0.7136\n",
      "Epoch 5/30\n",
      "7352/7352 [==============================] - 173s 23ms/step - loss: 0.5017 - acc: 0.7956 - val_loss: 0.4165 - val_acc: 0.8544\n",
      "Epoch 6/30\n",
      "7352/7352 [==============================] - 172s 23ms/step - loss: 0.3517 - acc: 0.8876 - val_loss: 0.4395 - val_acc: 0.8738\n",
      "Epoch 7/30\n",
      "7352/7352 [==============================] - 169s 23ms/step - loss: 0.2280 - acc: 0.9214 - val_loss: 0.5353 - val_acc: 0.8578\n",
      "Epoch 8/30\n",
      "7352/7352 [==============================] - 169s 23ms/step - loss: 0.1925 - acc: 0.9283 - val_loss: 0.7113 - val_acc: 0.8531\n",
      "Epoch 9/30\n",
      "7352/7352 [==============================] - 165s 22ms/step - loss: 0.2094 - acc: 0.9297 - val_loss: 0.3551 - val_acc: 0.8999\n",
      "Epoch 10/30\n",
      "7352/7352 [==============================] - 171s 23ms/step - loss: 0.1468 - acc: 0.9396 - val_loss: 0.5005 - val_acc: 0.8799\n",
      "Epoch 11/30\n",
      "7352/7352 [==============================] - 170s 23ms/step - loss: 0.1569 - acc: 0.9415 - val_loss: 0.4369 - val_acc: 0.8975\n",
      "Epoch 12/30\n",
      "7352/7352 [==============================] - 169s 23ms/step - loss: 0.1865 - acc: 0.9359 - val_loss: 0.4789 - val_acc: 0.8948\n",
      "Epoch 13/30\n",
      "7352/7352 [==============================] - 173s 24ms/step - loss: 0.1483 - acc: 0.9449 - val_loss: 0.5905 - val_acc: 0.8741\n",
      "Epoch 14/30\n",
      "7352/7352 [==============================] - 171s 23ms/step - loss: 0.1437 - acc: 0.9467 - val_loss: 0.4481 - val_acc: 0.9077\n",
      "Epoch 15/30\n",
      "7352/7352 [==============================] - 172s 23ms/step - loss: 0.1383 - acc: 0.9468 - val_loss: 0.4835 - val_acc: 0.9043\n",
      "Epoch 16/30\n",
      "7352/7352 [==============================] - 173s 24ms/step - loss: 0.1534 - acc: 0.9419 - val_loss: 0.4299 - val_acc: 0.9043\n",
      "Epoch 17/30\n",
      "7352/7352 [==============================] - 172s 23ms/step - loss: 0.1428 - acc: 0.9470 - val_loss: 0.5658 - val_acc: 0.9094\n",
      "Epoch 18/30\n",
      "7352/7352 [==============================] - 172s 23ms/step - loss: 0.1390 - acc: 0.9483 - val_loss: 0.4904 - val_acc: 0.9016\n",
      "Epoch 19/30\n",
      "7352/7352 [==============================] - 173s 24ms/step - loss: 0.1282 - acc: 0.9482 - val_loss: 0.5129 - val_acc: 0.9087\n",
      "Epoch 20/30\n",
      "7352/7352 [==============================] - 174s 24ms/step - loss: 0.1271 - acc: 0.9504 - val_loss: 0.5238 - val_acc: 0.8941\n",
      "Epoch 21/30\n",
      "7352/7352 [==============================] - 174s 24ms/step - loss: 0.1257 - acc: 0.9520 - val_loss: 0.4591 - val_acc: 0.8982\n",
      "Epoch 22/30\n",
      "7352/7352 [==============================] - 173s 24ms/step - loss: 0.1360 - acc: 0.9506 - val_loss: 0.4178 - val_acc: 0.9233\n",
      "Epoch 23/30\n",
      "7352/7352 [==============================] - 172s 23ms/step - loss: 0.1398 - acc: 0.9505 - val_loss: 0.3980 - val_acc: 0.9114\n",
      "Epoch 24/30\n",
      "7352/7352 [==============================] - 168s 23ms/step - loss: 0.1435 - acc: 0.9501 - val_loss: 0.3059 - val_acc: 0.9236\n",
      "Epoch 25/30\n",
      "7352/7352 [==============================] - 171s 23ms/step - loss: 0.1481 - acc: 0.9476 - val_loss: 0.3262 - val_acc: 0.9218\n",
      "Epoch 26/30\n",
      "7352/7352 [==============================] - 172s 23ms/step - loss: 0.1333 - acc: 0.9509 - val_loss: 0.3415 - val_acc: 0.8931\n",
      "Epoch 27/30\n",
      "7352/7352 [==============================] - 172s 23ms/step - loss: 0.1337 - acc: 0.9516 - val_loss: 0.3143 - val_acc: 0.9026\n",
      "Epoch 28/30\n",
      "7352/7352 [==============================] - 172s 23ms/step - loss: 0.1419 - acc: 0.9484 - val_loss: 0.3278 - val_acc: 0.9223\n",
      "Epoch 29/30\n",
      "7352/7352 [==============================] - 173s 24ms/step - loss: 0.1445 - acc: 0.9491 - val_loss: 0.2952 - val_acc: 0.9282\n",
      "Epoch 30/30\n",
      "7352/7352 [==============================] - 172s 23ms/step - loss: 0.1258 - acc: 0.9483 - val_loss: 0.2804 - val_acc: 0.9317\n",
      "<keras.callbacks.History at 0x2282ef62da0>\n"
     ]
    }
   ],
   "source": [
    "# Training the model\n",
    "model1.fit(X_train,\n",
    "          Y_train,\n",
    "          batch_size=batch_size,\n",
    "          validation_data=(X_test, Y_test),\n",
    "          epochs=epochs1)"
   ]
  },
  {
   "cell_type": "code",
   "execution_count": 198,
   "metadata": {},
   "outputs": [
    {
     "name": "stdout",
     "output_type": "stream",
     "text": [
      "Pred                LAYING  SITTING  STANDING  WALKING  WALKING_DOWNSTAIRS  \\\n",
      "True                                                                         \n",
      "LAYING                 510        0         1        0                   0   \n",
      "SITTING                  0      402        86        1                   0   \n",
      "STANDING                 0       76       454        1                   0   \n",
      "WALKING                  0        0         0      468                  25   \n",
      "WALKING_DOWNSTAIRS       0        0         0        1                 418   \n",
      "WALKING_UPSTAIRS         0        2         0       15                  33   \n",
      "\n",
      "Pred                WALKING_UPSTAIRS  \n",
      "True                                  \n",
      "LAYING                            26  \n",
      "SITTING                            2  \n",
      "STANDING                           1  \n",
      "WALKING                            3  \n",
      "WALKING_DOWNSTAIRS                 1  \n",
      "WALKING_UPSTAIRS                 421  \n"
     ]
    }
   ],
   "source": [
    "# Confusion Matrix\n",
    "print(confusion_matrix(Y_test, model1.predict(X_test)))"
   ]
  },
  {
   "cell_type": "code",
   "execution_count": 199,
   "metadata": {},
   "outputs": [
    {
     "name": "stdout",
     "output_type": "stream",
     "text": [
      "2947/2947 [==============================] - 10s 3ms/step\n"
     ]
    }
   ],
   "source": [
    "score1 = model1.evaluate(X_test, Y_test)"
   ]
  },
  {
   "cell_type": "code",
   "execution_count": 238,
   "metadata": {},
   "outputs": [
    {
     "data": {
      "text/plain": [
       "[0.2804819006140821, 0.9317240922972514]"
      ]
     },
     "execution_count": 238,
     "metadata": {},
     "output_type": "execute_result"
    }
   ],
   "source": [
    "score1"
   ]
  },
  {
   "cell_type": "markdown",
   "metadata": {},
   "source": [
    "- With a simple semi tuned stacked LSTM architecture we got 93.17% accuracy and a loss of 0.28"
   ]
  },
  {
   "cell_type": "markdown",
   "metadata": {},
   "source": []
  }
 ],
 "metadata": {
  "kernelspec": {
   "display_name": "Python 3",
   "language": "python",
   "name": "python3"
  },
  "language_info": {
   "codemirror_mode": {
    "name": "ipython",
    "version": 3
   },
   "file_extension": ".py",
   "mimetype": "text/x-python",
   "name": "python",
   "nbconvert_exporter": "python",
   "pygments_lexer": "ipython3",
   "version": "3.8.8"
  }
 },
 "nbformat": 4,
 "nbformat_minor": 2
}
